{
 "cells": [
  {
   "cell_type": "markdown",
   "id": "eb7e0926",
   "metadata": {},
   "source": [
    "# Natural Language Processing with Disaster Tweets"
   ]
  },
  {
   "cell_type": "markdown",
   "id": "33767586",
   "metadata": {},
   "source": [
    "## Importing Libraries and Loading Data"
   ]
  },
  {
   "cell_type": "code",
   "execution_count": 1,
   "id": "71a8afaf",
   "metadata": {},
   "outputs": [],
   "source": [
    "#Import Libraries\n",
    "import numpy as np\n",
    "import pandas as pd\n",
    "from html import unescape\n",
    "import re\n",
    "import nltk\n",
    "import string\n",
    "from collections import Counter\n",
    "from itertools import chain\n",
    "from sklearn.model_selection import train_test_split, GridSearchCV\n",
    "from sklearn.neural_network import MLPClassifier\n",
    "from sklearn.feature_extraction.text import TfidfVectorizer"
   ]
  },
  {
   "cell_type": "code",
   "execution_count": 2,
   "id": "d4aff05a",
   "metadata": {},
   "outputs": [],
   "source": [
    "#Loading Data\n",
    "train = pd.read_csv(\"train.csv\")\n",
    "test = pd.read_csv(\"test.csv\")"
   ]
  },
  {
   "cell_type": "code",
   "execution_count": 3,
   "id": "3c7dda23",
   "metadata": {},
   "outputs": [
    {
     "data": {
      "text/plain": [
       "(id             0\n",
       " keyword       61\n",
       " location    2533\n",
       " text           0\n",
       " target         0\n",
       " dtype: int64,\n",
       " id             0\n",
       " keyword       26\n",
       " location    1105\n",
       " text           0\n",
       " dtype: int64)"
      ]
     },
     "execution_count": 3,
     "metadata": {},
     "output_type": "execute_result"
    }
   ],
   "source": [
    "#Checking for NULL Values\n",
    "train.isna().sum(), test.isna().sum()"
   ]
  },
  {
   "cell_type": "markdown",
   "id": "33eced57",
   "metadata": {},
   "source": [
    "Since the most significant features to be considered are the text, target and ID, and since these three features do not contain any null values, no rows need to be deleted. The missing values can be filled in with the most frequent value of that feature."
   ]
  },
  {
   "cell_type": "code",
   "execution_count": 4,
   "id": "273bd527",
   "metadata": {},
   "outputs": [
    {
     "data": {
      "text/plain": [
       "(id          0\n",
       " keyword     0\n",
       " location    0\n",
       " text        0\n",
       " target      0\n",
       " dtype: int64,\n",
       " id          0\n",
       " keyword     0\n",
       " location    0\n",
       " text        0\n",
       " dtype: int64)"
      ]
     },
     "execution_count": 4,
     "metadata": {},
     "output_type": "execute_result"
    }
   ],
   "source": [
    "#Filling NULL Values\n",
    "train_mode = train[['keyword', 'location']].mode()\n",
    "train['location'] = train['location'].fillna(train_mode['location'][0])\n",
    "train['keyword'] = train['keyword'].fillna(train_mode['keyword'][0])\n",
    "\n",
    "test_mode = test[['keyword', 'location']].mode()\n",
    "test['location'] = test['location'].fillna(test_mode['location'][0])\n",
    "test['keyword'] = test['keyword'].fillna(test_mode['keyword'][0])\n",
    "\n",
    "#Confirming there are no more NULL Values\n",
    "train.isna().sum(), test.isna().sum()"
   ]
  },
  {
   "cell_type": "markdown",
   "id": "e04d6b71",
   "metadata": {},
   "source": [
    "# Processing Data"
   ]
  },
  {
   "cell_type": "code",
   "execution_count": 5,
   "id": "a3140189",
   "metadata": {},
   "outputs": [],
   "source": [
    "train['processed text'] = train['text'].apply(lambda x: unescape(x))\n",
    "test['processed text'] = test['text'].apply(lambda x: unescape(x))"
   ]
  },
  {
   "cell_type": "code",
   "execution_count": 6,
   "id": "4a7efefa",
   "metadata": {},
   "outputs": [],
   "source": [
    "#Making words lower case\n",
    "train['processed text'] = train['processed text'].str.lower()\n",
    "test['processed text'] = test['processed text'].str.lower()"
   ]
  },
  {
   "cell_type": "code",
   "execution_count": 7,
   "id": "89456709",
   "metadata": {},
   "outputs": [],
   "source": [
    "#Removing punctuation\n",
    "tb = str.maketrans('', '', string.punctuation)\n",
    "train['processed text'] = [train['processed text'][r].translate(tb) for r in range(train['processed text'].shape[0])]\n",
    "test['processed text'] = [test['processed text'][r].translate(tb) for r in range(test['processed text'].shape[0])]"
   ]
  },
  {
   "cell_type": "code",
   "execution_count": 8,
   "id": "d93bca2f",
   "metadata": {},
   "outputs": [],
   "source": [
    "#Removing words with less than 3 letters\n",
    "train['processed text'] = train['processed text'].apply(lambda x: ' '.join([w for w in x.split() if len(w) >= 3]))\n",
    "test['processed text'] = test['processed text'].apply(lambda x: ' '.join([w for w in x.split() if len(w) >= 3]))"
   ]
  },
  {
   "cell_type": "code",
   "execution_count": 9,
   "id": "3cf1d450",
   "metadata": {},
   "outputs": [],
   "source": [
    "#Removing words that occur only once\n",
    "l_train = train['processed text'].str.split().tolist()\n",
    "l_test = test['processed text'].str.split().tolist()\n",
    "\n",
    "c_train = Counter(chain.from_iterable(l_train))\n",
    "c_test = Counter(chain.from_iterable(l_test))\n",
    "\n",
    "train['processed text'] = [' '.join([w for w in t if c_train[w] > 1]) for t in l_train]\n",
    "test['processed text'] = [' '.join([w for w in t if c_test[w] > 1]) for t in l_test]"
   ]
  },
  {
   "cell_type": "code",
   "execution_count": 10,
   "id": "18fddcc8",
   "metadata": {},
   "outputs": [
    {
     "name": "stderr",
     "output_type": "stream",
     "text": [
      "[nltk_data] Downloading package stopwords to\n",
      "[nltk_data]     C:\\Users\\dlytten\\AppData\\Roaming\\nltk_data...\n",
      "[nltk_data]   Package stopwords is already up-to-date!\n"
     ]
    }
   ],
   "source": [
    "#Further processing\n",
    "nltk.download('stopwords')\n",
    "wrds = nltk.corpus.stopwords.words(\"english\")\n",
    "stm = nltk.stem.PorterStemmer()\n",
    "train['processed text'] = train['text'].apply(lambda x: \" \".join([stm.stem(i) for i in re.sub(\"[^a-zA-Z]\", \" \", x).split() if i not in wrds]).lower())\n",
    "test['processed text'] = test['text'].apply(lambda x: \" \".join([stm.stem(i) for i in re.sub(\"[^a-zA-Z]\", \" \", x).split() if i not in wrds]).lower())"
   ]
  },
  {
   "cell_type": "markdown",
   "id": "b5aa0980",
   "metadata": {},
   "source": [
    "## Splitting Data"
   ]
  },
  {
   "cell_type": "code",
   "execution_count": 11,
   "id": "950dd930",
   "metadata": {},
   "outputs": [],
   "source": [
    "#Seperating Input and Target Data\n",
    "X = train[\"processed text\"]\n",
    "Y = train[\"target\"]\n",
    "X_test = test[\"processed text\"]"
   ]
  },
  {
   "cell_type": "code",
   "execution_count": 12,
   "id": "6ee2ebd0",
   "metadata": {},
   "outputs": [],
   "source": [
    "#Splitting into Training and Validation Data\n",
    "X_train, X_valid, Y_train, Y_valid = train_test_split(X, Y, stratify = Y, test_size = 0.15, random_state = 42, shuffle = True)"
   ]
  },
  {
   "cell_type": "code",
   "execution_count": 13,
   "id": "2fb2a105",
   "metadata": {},
   "outputs": [],
   "source": [
    "vec = TfidfVectorizer(stop_words = \"english\", max_df = 0.7)\n",
    "train_tfidf = vec.fit_transform(X_train.values.astype('U'))\n",
    "valid_tfidf = vec.transform(X_valid.values.astype('U'))\n",
    "test_tfidf = vec.transform(X_test.values.astype('U'))"
   ]
  },
  {
   "cell_type": "markdown",
   "id": "90fa095f",
   "metadata": {},
   "source": [
    "## Training the Model"
   ]
  },
  {
   "cell_type": "code",
   "execution_count": 14,
   "id": "5ee4247d",
   "metadata": {},
   "outputs": [],
   "source": [
    "model = MLPClassifier(early_stopping = True)\n",
    "model.fit(train_tfidf, Y_train)\n",
    "hyperparameters = dict()\n",
    "\n",
    "hypt = GridSearchCV(model, hyperparameters, cv = 6, verbose = 0)\n",
    "best_m = hypt.fit(train_tfidf, Y_train)"
   ]
  },
  {
   "cell_type": "markdown",
   "id": "78bc4d82",
   "metadata": {},
   "source": [
    "Checking Model Accuracy"
   ]
  },
  {
   "cell_type": "code",
   "execution_count": 15,
   "id": "44aaf8e3",
   "metadata": {},
   "outputs": [
    {
     "data": {
      "text/plain": [
       "0.8995518467006645"
      ]
     },
     "execution_count": 15,
     "metadata": {},
     "output_type": "execute_result"
    }
   ],
   "source": [
    "best_m.score(train_tfidf, Y_train)"
   ]
  },
  {
   "cell_type": "code",
   "execution_count": 16,
   "id": "3b594bb2",
   "metadata": {},
   "outputs": [
    {
     "data": {
      "text/plain": [
       "0.8178633975481612"
      ]
     },
     "execution_count": 16,
     "metadata": {},
     "output_type": "execute_result"
    }
   ],
   "source": [
    "best_m.predict(valid_tfidf)\n",
    "best_m.score(valid_tfidf, Y_valid)"
   ]
  },
  {
   "cell_type": "markdown",
   "id": "3a5a93ec",
   "metadata": {},
   "source": [
    "## Predicting Values for Test Data"
   ]
  },
  {
   "cell_type": "code",
   "execution_count": 17,
   "id": "3ad13751",
   "metadata": {},
   "outputs": [
    {
     "data": {
      "text/plain": [
       "array([1, 0, 1, ..., 1, 1, 1], dtype=int64)"
      ]
     },
     "execution_count": 17,
     "metadata": {},
     "output_type": "execute_result"
    }
   ],
   "source": [
    "Y_pred = best_m.predict(test_tfidf)\n",
    "Y_pred"
   ]
  },
  {
   "cell_type": "markdown",
   "id": "5cb1ba8d",
   "metadata": {},
   "source": [
    "## Saving the Predicted Values for Submission"
   ]
  },
  {
   "cell_type": "code",
   "execution_count": 18,
   "id": "2543d16d",
   "metadata": {},
   "outputs": [
    {
     "data": {
      "text/html": [
       "<div>\n",
       "<style scoped>\n",
       "    .dataframe tbody tr th:only-of-type {\n",
       "        vertical-align: middle;\n",
       "    }\n",
       "\n",
       "    .dataframe tbody tr th {\n",
       "        vertical-align: top;\n",
       "    }\n",
       "\n",
       "    .dataframe thead th {\n",
       "        text-align: right;\n",
       "    }\n",
       "</style>\n",
       "<table border=\"1\" class=\"dataframe\">\n",
       "  <thead>\n",
       "    <tr style=\"text-align: right;\">\n",
       "      <th></th>\n",
       "      <th>id</th>\n",
       "      <th>target</th>\n",
       "    </tr>\n",
       "  </thead>\n",
       "  <tbody>\n",
       "    <tr>\n",
       "      <th>0</th>\n",
       "      <td>0</td>\n",
       "      <td>1</td>\n",
       "    </tr>\n",
       "    <tr>\n",
       "      <th>1</th>\n",
       "      <td>2</td>\n",
       "      <td>0</td>\n",
       "    </tr>\n",
       "    <tr>\n",
       "      <th>2</th>\n",
       "      <td>3</td>\n",
       "      <td>1</td>\n",
       "    </tr>\n",
       "    <tr>\n",
       "      <th>3</th>\n",
       "      <td>9</td>\n",
       "      <td>1</td>\n",
       "    </tr>\n",
       "    <tr>\n",
       "      <th>4</th>\n",
       "      <td>11</td>\n",
       "      <td>1</td>\n",
       "    </tr>\n",
       "    <tr>\n",
       "      <th>...</th>\n",
       "      <td>...</td>\n",
       "      <td>...</td>\n",
       "    </tr>\n",
       "    <tr>\n",
       "      <th>3258</th>\n",
       "      <td>10861</td>\n",
       "      <td>1</td>\n",
       "    </tr>\n",
       "    <tr>\n",
       "      <th>3259</th>\n",
       "      <td>10865</td>\n",
       "      <td>1</td>\n",
       "    </tr>\n",
       "    <tr>\n",
       "      <th>3260</th>\n",
       "      <td>10868</td>\n",
       "      <td>1</td>\n",
       "    </tr>\n",
       "    <tr>\n",
       "      <th>3261</th>\n",
       "      <td>10874</td>\n",
       "      <td>1</td>\n",
       "    </tr>\n",
       "    <tr>\n",
       "      <th>3262</th>\n",
       "      <td>10875</td>\n",
       "      <td>1</td>\n",
       "    </tr>\n",
       "  </tbody>\n",
       "</table>\n",
       "<p>3263 rows × 2 columns</p>\n",
       "</div>"
      ],
      "text/plain": [
       "         id  target\n",
       "0         0       1\n",
       "1         2       0\n",
       "2         3       1\n",
       "3         9       1\n",
       "4        11       1\n",
       "...     ...     ...\n",
       "3258  10861       1\n",
       "3259  10865       1\n",
       "3260  10868       1\n",
       "3261  10874       1\n",
       "3262  10875       1\n",
       "\n",
       "[3263 rows x 2 columns]"
      ]
     },
     "execution_count": 18,
     "metadata": {},
     "output_type": "execute_result"
    }
   ],
   "source": [
    "Submission = pd.DataFrame({\"id\" : test[\"id\"], \"target\" : Y_pred})\n",
    "Submission"
   ]
  },
  {
   "cell_type": "code",
   "execution_count": 19,
   "id": "91202672",
   "metadata": {},
   "outputs": [],
   "source": [
    "Submission.to_csv(\"Submission.csv\", index = False)"
   ]
  }
 ],
 "metadata": {
  "kernelspec": {
   "display_name": "Python 3 (ipykernel)",
   "language": "python",
   "name": "python3"
  },
  "language_info": {
   "codemirror_mode": {
    "name": "ipython",
    "version": 3
   },
   "file_extension": ".py",
   "mimetype": "text/x-python",
   "name": "python",
   "nbconvert_exporter": "python",
   "pygments_lexer": "ipython3",
   "version": "3.9.12"
  }
 },
 "nbformat": 4,
 "nbformat_minor": 5
}
